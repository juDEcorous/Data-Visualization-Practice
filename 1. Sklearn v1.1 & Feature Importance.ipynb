{
 "cells": [
  {
   "cell_type": "markdown",
   "id": "3961149a",
   "metadata": {},
   "source": [
    "# The Task\n",
    "- For this assignment, you will be building a machine learning model to predict car price using all of the provided features.\n",
    "- Specifically, you will:\n",
    "    - Preprocess the data as dataframes with feature names using the updated column transformer.\n",
    "    - Fit and evaluate a Tree Based Model of your choice.\n",
    "        - Evaluate training and test data using R-squared and RMSE.\n",
    "    - Extract and Plot the Feature Importances calculated by your model.\n",
    "        - Answer the Qs:\n",
    "            - What were your 5 most important features?\n",
    "            - What does it mean that they were \"important\"?\n",
    "    - Apply sklearn's permutation importance and visualize the permutation importances.\n",
    "        - Answer the Qs:\n",
    "            - What were your 5 most important features?\n",
    "            - Are they the same features that your model has as the top 5 important?"
   ]
  },
  {
   "cell_type": "code",
   "execution_count": 1,
   "id": "d41d8691",
   "metadata": {},
   "outputs": [],
   "source": [
    "import pandas as pd\n",
    "import numpy as np\n",
    "import matplotlib.pyplot as plt\n",
    "import seaborn as sns\n",
    "\n",
    "# preprocessing\n",
    "from sklearn.model_selection import train_test_split\n",
    "from sklearn.pipeline import make_pipeline\n",
    "from sklearn.preprocessing import StandardScaler, OneHotEncoder\n",
    "from sklearn.compose import make_column_transformer, make_column_selector \n",
    "from sklearn.impute import SimpleImputer\n",
    "from sklearn import metrics\n",
    "from sklearn.inspection import permutation_importance\n",
    "\n",
    "# models\n",
    "from sklearn.tree import DecisionTreeRegressor\n",
    "from sklearn.ensemble import RandomForestRegressor\n",
    "from lightgbm import LGBMRegressor"
   ]
  },
  {
   "cell_type": "code",
   "execution_count": 2,
   "id": "1cf9e7cd",
   "metadata": {},
   "outputs": [
    {
     "name": "stdout",
     "output_type": "stream",
     "text": [
      "<class 'pandas.core.frame.DataFrame'>\n",
      "RangeIndex: 205 entries, 0 to 204\n",
      "Data columns (total 24 columns):\n",
      " #   Column            Non-Null Count  Dtype  \n",
      "---  ------            --------------  -----  \n",
      " 0   symboling         205 non-null    int64  \n",
      " 1   fueltype          205 non-null    object \n",
      " 2   aspiration        205 non-null    object \n",
      " 3   doornumber        205 non-null    object \n",
      " 4   carbody           205 non-null    object \n",
      " 5   drivewheel        205 non-null    object \n",
      " 6   enginelocation    205 non-null    object \n",
      " 7   wheelbase         205 non-null    float64\n",
      " 8   carlength         205 non-null    float64\n",
      " 9   carwidth          205 non-null    float64\n",
      " 10  carheight         205 non-null    float64\n",
      " 11  curbweight        205 non-null    int64  \n",
      " 12  enginetype        205 non-null    object \n",
      " 13  cylindernumber    205 non-null    int64  \n",
      " 14  enginesize        205 non-null    int64  \n",
      " 15  fuelsystem        205 non-null    object \n",
      " 16  boreratio         205 non-null    float64\n",
      " 17  stroke            205 non-null    float64\n",
      " 18  compressionratio  205 non-null    float64\n",
      " 19  horsepower        205 non-null    int64  \n",
      " 20  peakrpm           205 non-null    int64  \n",
      " 21  citympg           205 non-null    int64  \n",
      " 22  highwaympg        205 non-null    int64  \n",
      " 23  price             205 non-null    float64\n",
      "dtypes: float64(8), int64(8), object(8)\n",
      "memory usage: 38.6+ KB\n"
     ]
    },
    {
     "data": {
      "text/html": [
       "<div>\n",
       "<style scoped>\n",
       "    .dataframe tbody tr th:only-of-type {\n",
       "        vertical-align: middle;\n",
       "    }\n",
       "\n",
       "    .dataframe tbody tr th {\n",
       "        vertical-align: top;\n",
       "    }\n",
       "\n",
       "    .dataframe thead th {\n",
       "        text-align: right;\n",
       "    }\n",
       "</style>\n",
       "<table border=\"1\" class=\"dataframe\">\n",
       "  <thead>\n",
       "    <tr style=\"text-align: right;\">\n",
       "      <th></th>\n",
       "      <th>symboling</th>\n",
       "      <th>fueltype</th>\n",
       "      <th>aspiration</th>\n",
       "      <th>doornumber</th>\n",
       "      <th>carbody</th>\n",
       "      <th>drivewheel</th>\n",
       "      <th>enginelocation</th>\n",
       "      <th>wheelbase</th>\n",
       "      <th>carlength</th>\n",
       "      <th>carwidth</th>\n",
       "      <th>...</th>\n",
       "      <th>enginesize</th>\n",
       "      <th>fuelsystem</th>\n",
       "      <th>boreratio</th>\n",
       "      <th>stroke</th>\n",
       "      <th>compressionratio</th>\n",
       "      <th>horsepower</th>\n",
       "      <th>peakrpm</th>\n",
       "      <th>citympg</th>\n",
       "      <th>highwaympg</th>\n",
       "      <th>price</th>\n",
       "    </tr>\n",
       "  </thead>\n",
       "  <tbody>\n",
       "    <tr>\n",
       "      <th>0</th>\n",
       "      <td>3</td>\n",
       "      <td>gas</td>\n",
       "      <td>std</td>\n",
       "      <td>two</td>\n",
       "      <td>convertible</td>\n",
       "      <td>rwd</td>\n",
       "      <td>front</td>\n",
       "      <td>88.6</td>\n",
       "      <td>168.8</td>\n",
       "      <td>64.1</td>\n",
       "      <td>...</td>\n",
       "      <td>130</td>\n",
       "      <td>mpfi</td>\n",
       "      <td>3.47</td>\n",
       "      <td>2.68</td>\n",
       "      <td>9.0</td>\n",
       "      <td>111</td>\n",
       "      <td>5000</td>\n",
       "      <td>21</td>\n",
       "      <td>27</td>\n",
       "      <td>13495.0</td>\n",
       "    </tr>\n",
       "    <tr>\n",
       "      <th>1</th>\n",
       "      <td>3</td>\n",
       "      <td>gas</td>\n",
       "      <td>std</td>\n",
       "      <td>two</td>\n",
       "      <td>convertible</td>\n",
       "      <td>rwd</td>\n",
       "      <td>front</td>\n",
       "      <td>88.6</td>\n",
       "      <td>168.8</td>\n",
       "      <td>64.1</td>\n",
       "      <td>...</td>\n",
       "      <td>130</td>\n",
       "      <td>mpfi</td>\n",
       "      <td>3.47</td>\n",
       "      <td>2.68</td>\n",
       "      <td>9.0</td>\n",
       "      <td>111</td>\n",
       "      <td>5000</td>\n",
       "      <td>21</td>\n",
       "      <td>27</td>\n",
       "      <td>16500.0</td>\n",
       "    </tr>\n",
       "    <tr>\n",
       "      <th>2</th>\n",
       "      <td>1</td>\n",
       "      <td>gas</td>\n",
       "      <td>std</td>\n",
       "      <td>two</td>\n",
       "      <td>hatchback</td>\n",
       "      <td>rwd</td>\n",
       "      <td>front</td>\n",
       "      <td>94.5</td>\n",
       "      <td>171.2</td>\n",
       "      <td>65.5</td>\n",
       "      <td>...</td>\n",
       "      <td>152</td>\n",
       "      <td>mpfi</td>\n",
       "      <td>2.68</td>\n",
       "      <td>3.47</td>\n",
       "      <td>9.0</td>\n",
       "      <td>154</td>\n",
       "      <td>5000</td>\n",
       "      <td>19</td>\n",
       "      <td>26</td>\n",
       "      <td>16500.0</td>\n",
       "    </tr>\n",
       "    <tr>\n",
       "      <th>3</th>\n",
       "      <td>2</td>\n",
       "      <td>gas</td>\n",
       "      <td>std</td>\n",
       "      <td>four</td>\n",
       "      <td>sedan</td>\n",
       "      <td>fwd</td>\n",
       "      <td>front</td>\n",
       "      <td>99.8</td>\n",
       "      <td>176.6</td>\n",
       "      <td>66.2</td>\n",
       "      <td>...</td>\n",
       "      <td>109</td>\n",
       "      <td>mpfi</td>\n",
       "      <td>3.19</td>\n",
       "      <td>3.40</td>\n",
       "      <td>10.0</td>\n",
       "      <td>102</td>\n",
       "      <td>5500</td>\n",
       "      <td>24</td>\n",
       "      <td>30</td>\n",
       "      <td>13950.0</td>\n",
       "    </tr>\n",
       "    <tr>\n",
       "      <th>4</th>\n",
       "      <td>2</td>\n",
       "      <td>gas</td>\n",
       "      <td>std</td>\n",
       "      <td>four</td>\n",
       "      <td>sedan</td>\n",
       "      <td>4wd</td>\n",
       "      <td>front</td>\n",
       "      <td>99.4</td>\n",
       "      <td>176.6</td>\n",
       "      <td>66.4</td>\n",
       "      <td>...</td>\n",
       "      <td>136</td>\n",
       "      <td>mpfi</td>\n",
       "      <td>3.19</td>\n",
       "      <td>3.40</td>\n",
       "      <td>8.0</td>\n",
       "      <td>115</td>\n",
       "      <td>5500</td>\n",
       "      <td>18</td>\n",
       "      <td>22</td>\n",
       "      <td>17450.0</td>\n",
       "    </tr>\n",
       "  </tbody>\n",
       "</table>\n",
       "<p>5 rows × 24 columns</p>\n",
       "</div>"
      ],
      "text/plain": [
       "   symboling fueltype aspiration doornumber      carbody drivewheel  \\\n",
       "0          3      gas        std        two  convertible        rwd   \n",
       "1          3      gas        std        two  convertible        rwd   \n",
       "2          1      gas        std        two    hatchback        rwd   \n",
       "3          2      gas        std       four        sedan        fwd   \n",
       "4          2      gas        std       four        sedan        4wd   \n",
       "\n",
       "  enginelocation  wheelbase  carlength  carwidth  ...  enginesize  fuelsystem  \\\n",
       "0          front       88.6      168.8      64.1  ...         130        mpfi   \n",
       "1          front       88.6      168.8      64.1  ...         130        mpfi   \n",
       "2          front       94.5      171.2      65.5  ...         152        mpfi   \n",
       "3          front       99.8      176.6      66.2  ...         109        mpfi   \n",
       "4          front       99.4      176.6      66.4  ...         136        mpfi   \n",
       "\n",
       "  boreratio  stroke  compressionratio horsepower  peakrpm  citympg  \\\n",
       "0      3.47    2.68               9.0        111     5000       21   \n",
       "1      3.47    2.68               9.0        111     5000       21   \n",
       "2      2.68    3.47               9.0        154     5000       19   \n",
       "3      3.19    3.40              10.0        102     5500       24   \n",
       "4      3.19    3.40               8.0        115     5500       18   \n",
       "\n",
       "   highwaympg    price  \n",
       "0          27  13495.0  \n",
       "1          27  16500.0  \n",
       "2          26  16500.0  \n",
       "3          30  13950.0  \n",
       "4          22  17450.0  \n",
       "\n",
       "[5 rows x 24 columns]"
      ]
     },
     "execution_count": 2,
     "metadata": {},
     "output_type": "execute_result"
    }
   ],
   "source": [
    "df = pd.read_csv('https://docs.google.com/spreadsheets/d/e/2PACX-1vSnWFRczgXa0AyKkbioX5Roq60X7GTAFilKtpFuAmyGi9uPMwdb51Jo-cpupDyjhT0EVqcNRJPINZ5b/pub?output=csv')\n",
    "df.info()\n",
    "df.head()"
   ]
  },
  {
   "cell_type": "code",
   "execution_count": 3,
   "id": "39b5edf0",
   "metadata": {},
   "outputs": [
    {
     "data": {
      "text/plain": [
       "0"
      ]
     },
     "execution_count": 3,
     "metadata": {},
     "output_type": "execute_result"
    }
   ],
   "source": [
    "df.isna().sum().sum()"
   ]
  },
  {
   "cell_type": "code",
   "execution_count": 4,
   "id": "6ae04738",
   "metadata": {},
   "outputs": [
    {
     "name": "stdout",
     "output_type": "stream",
     "text": [
      "We had a total numbers of 1 duplicates in our data And have a total of 0 duplicates after dropping.\n"
     ]
    }
   ],
   "source": [
    "duplicated = df.duplicated().sum()\n",
    "df = df.drop_duplicates()\n",
    "duplicated_drop = df.duplicated().sum()\n",
    "print(f'We had a total numbers of {duplicated} duplicates in our data \\\n",
    "And have a total of {duplicated_drop} duplicates after dropping.')"
   ]
  },
  {
   "cell_type": "markdown",
   "id": "fb02cbf1",
   "metadata": {},
   "source": [
    "# Preprocessing"
   ]
  },
  {
   "cell_type": "code",
   "execution_count": 5,
   "id": "6d0765a6",
   "metadata": {},
   "outputs": [],
   "source": [
    "target = 'price'\n",
    "\n",
    "y = df[target]\n",
    "X = df.drop(columns = target)\n",
    "\n",
    "X_train, X_test, y_train, y_test = train_test_split(X, y, random_state = 42)"
   ]
  },
  {
   "cell_type": "code",
   "execution_count": 6,
   "id": "901d748f",
   "metadata": {},
   "outputs": [
    {
     "name": "stdout",
     "output_type": "stream",
     "text": [
      "X_train shape: (153, 23)\n",
      "X_test shape: (51, 23)\n",
      "y_train shape: (153,)\n",
      "y_test shape: (51,)\n"
     ]
    }
   ],
   "source": [
    "print(f\"X_train shape: {X_train.shape}\")\n",
    "print(f\"X_test shape: {X_test.shape}\")\n",
    "print(f\"y_train shape: {y_train.shape}\")\n",
    "print(f\"y_test shape: {y_test.shape}\")"
   ]
  },
  {
   "cell_type": "code",
   "execution_count": 7,
   "id": "887278f9",
   "metadata": {},
   "outputs": [
    {
     "name": "stdout",
     "output_type": "stream",
     "text": [
      "fueltype\n",
      "Unique Values: ['gas' 'diesel']\n",
      "\n",
      "aspiration\n",
      "Unique Values: ['std' 'turbo']\n",
      "\n",
      "doornumber\n",
      "Unique Values: ['two' 'four']\n",
      "\n",
      "carbody\n",
      "Unique Values: ['convertible' 'hatchback' 'sedan' 'wagon' 'hardtop']\n",
      "\n",
      "drivewheel\n",
      "Unique Values: ['rwd' 'fwd' '4wd']\n",
      "\n",
      "enginelocation\n",
      "Unique Values: ['front' 'rear']\n",
      "\n",
      "enginetype\n",
      "Unique Values: ['dohc' 'ohcv' 'ohc' 'l' 'rotor' 'ohcf' 'dohcv']\n",
      "\n",
      "fuelsystem\n",
      "Unique Values: ['mpfi' '2bbl' 'mfi' '1bbl' 'spfi' '4bbl' 'idi' 'spdi']\n",
      "\n"
     ]
    }
   ],
   "source": [
    "data_types = df.dtypes\n",
    "obj_data = data_types[(data_types == 'object')]\n",
    "\n",
    "for column in obj_data.index:\n",
    "  print(column)\n",
    "  print(f'Unique Values: {df[column].unique()}\\n')"
   ]
  },
  {
   "cell_type": "markdown",
   "id": "64573cb8",
   "metadata": {},
   "source": [
    "We don't have any ordinal features in our data set."
   ]
  },
  {
   "cell_type": "code",
   "execution_count": 8,
   "id": "a4df1181",
   "metadata": {},
   "outputs": [],
   "source": [
    "nominal_features = make_column_selector(dtype_include  ='object')\n",
    "ohe = OneHotEncoder(handle_unknown = 'ignore')\n",
    "nom_tuple = (ohe, nominal_features)"
   ]
  },
  {
   "cell_type": "code",
   "execution_count": 9,
   "id": "115d68a3",
   "metadata": {},
   "outputs": [],
   "source": [
    "numerical_features = make_column_selector(dtype_include = 'number')\n",
    "num_scaler = StandardScaler()\n",
    "num_tuple = (num_scaler, numerical_features)"
   ]
  },
  {
   "cell_type": "code",
   "execution_count": 10,
   "id": "99a954c7",
   "metadata": {},
   "outputs": [],
   "source": [
    "preprocessor = make_column_transformer (nom_tuple, \n",
    "                                        num_tuple,\n",
    "                                        remainder = 'drop', \n",
    "                                        verbose_feature_names_out = False)"
   ]
  },
  {
   "cell_type": "code",
   "execution_count": 11,
   "id": "0780538e",
   "metadata": {},
   "outputs": [
    {
     "data": {
      "text/plain": [
       "array(['fueltype_diesel', 'fueltype_gas', 'aspiration_std',\n",
       "       'aspiration_turbo', 'doornumber_four', 'doornumber_two',\n",
       "       'carbody_convertible', 'carbody_hardtop', 'carbody_hatchback',\n",
       "       'carbody_sedan', 'carbody_wagon', 'drivewheel_4wd',\n",
       "       'drivewheel_fwd', 'drivewheel_rwd', 'enginelocation_front',\n",
       "       'enginelocation_rear', 'enginetype_dohc', 'enginetype_l',\n",
       "       'enginetype_ohc', 'enginetype_ohcf', 'enginetype_ohcv',\n",
       "       'enginetype_rotor', 'fuelsystem_1bbl', 'fuelsystem_2bbl',\n",
       "       'fuelsystem_4bbl', 'fuelsystem_idi', 'fuelsystem_mpfi',\n",
       "       'fuelsystem_spdi', 'fuelsystem_spfi', 'symboling', 'wheelbase',\n",
       "       'carlength', 'carwidth', 'carheight', 'curbweight',\n",
       "       'cylindernumber', 'enginesize', 'boreratio', 'stroke',\n",
       "       'compressionratio', 'horsepower', 'peakrpm', 'citympg',\n",
       "       'highwaympg'], dtype=object)"
      ]
     },
     "execution_count": 11,
     "metadata": {},
     "output_type": "execute_result"
    }
   ],
   "source": [
    "# Checking if preprocessor works\n",
    "preprocessor.fit(X_train) # will fail if it doesnt work\n",
    "\n",
    "# save the output of get_feature_names_out()\n",
    "feature_names = preprocessor.get_feature_names_out()\n",
    "feature_names"
   ]
  },
  {
   "cell_type": "code",
   "execution_count": 12,
   "id": "e3f797ee",
   "metadata": {},
   "outputs": [
    {
     "data": {
      "text/html": [
       "<div>\n",
       "<style scoped>\n",
       "    .dataframe tbody tr th:only-of-type {\n",
       "        vertical-align: middle;\n",
       "    }\n",
       "\n",
       "    .dataframe tbody tr th {\n",
       "        vertical-align: top;\n",
       "    }\n",
       "\n",
       "    .dataframe thead th {\n",
       "        text-align: right;\n",
       "    }\n",
       "</style>\n",
       "<table border=\"1\" class=\"dataframe\">\n",
       "  <thead>\n",
       "    <tr style=\"text-align: right;\">\n",
       "      <th></th>\n",
       "      <th>fueltype_diesel</th>\n",
       "      <th>fueltype_gas</th>\n",
       "      <th>aspiration_std</th>\n",
       "      <th>aspiration_turbo</th>\n",
       "      <th>doornumber_four</th>\n",
       "      <th>doornumber_two</th>\n",
       "      <th>carbody_convertible</th>\n",
       "      <th>carbody_hardtop</th>\n",
       "      <th>carbody_hatchback</th>\n",
       "      <th>carbody_sedan</th>\n",
       "      <th>...</th>\n",
       "      <th>curbweight</th>\n",
       "      <th>cylindernumber</th>\n",
       "      <th>enginesize</th>\n",
       "      <th>boreratio</th>\n",
       "      <th>stroke</th>\n",
       "      <th>compressionratio</th>\n",
       "      <th>horsepower</th>\n",
       "      <th>peakrpm</th>\n",
       "      <th>citympg</th>\n",
       "      <th>highwaympg</th>\n",
       "    </tr>\n",
       "  </thead>\n",
       "  <tbody>\n",
       "    <tr>\n",
       "      <th>165</th>\n",
       "      <td>0.0</td>\n",
       "      <td>1.0</td>\n",
       "      <td>1.0</td>\n",
       "      <td>0.0</td>\n",
       "      <td>0.0</td>\n",
       "      <td>1.0</td>\n",
       "      <td>0.0</td>\n",
       "      <td>0.0</td>\n",
       "      <td>0.0</td>\n",
       "      <td>1.0</td>\n",
       "      <td>...</td>\n",
       "      <td>-0.582771</td>\n",
       "      <td>-0.379851</td>\n",
       "      <td>-0.700619</td>\n",
       "      <td>-0.301349</td>\n",
       "      <td>-0.585409</td>\n",
       "      <td>-0.172700</td>\n",
       "      <td>0.216190</td>\n",
       "      <td>3.028543</td>\n",
       "      <td>0.167890</td>\n",
       "      <td>-0.212680</td>\n",
       "    </tr>\n",
       "    <tr>\n",
       "      <th>28</th>\n",
       "      <td>0.0</td>\n",
       "      <td>1.0</td>\n",
       "      <td>1.0</td>\n",
       "      <td>0.0</td>\n",
       "      <td>1.0</td>\n",
       "      <td>0.0</td>\n",
       "      <td>0.0</td>\n",
       "      <td>0.0</td>\n",
       "      <td>0.0</td>\n",
       "      <td>0.0</td>\n",
       "      <td>...</td>\n",
       "      <td>-0.065156</td>\n",
       "      <td>-0.379851</td>\n",
       "      <td>-0.140124</td>\n",
       "      <td>0.075337</td>\n",
       "      <td>0.650904</td>\n",
       "      <td>-0.407178</td>\n",
       "      <td>-0.427124</td>\n",
       "      <td>-0.263585</td>\n",
       "      <td>-0.161433</td>\n",
       "      <td>-0.059189</td>\n",
       "    </tr>\n",
       "    <tr>\n",
       "      <th>8</th>\n",
       "      <td>0.0</td>\n",
       "      <td>1.0</td>\n",
       "      <td>0.0</td>\n",
       "      <td>1.0</td>\n",
       "      <td>1.0</td>\n",
       "      <td>0.0</td>\n",
       "      <td>0.0</td>\n",
       "      <td>0.0</td>\n",
       "      <td>0.0</td>\n",
       "      <td>1.0</td>\n",
       "      <td>...</td>\n",
       "      <td>0.991161</td>\n",
       "      <td>0.514259</td>\n",
       "      <td>0.070062</td>\n",
       "      <td>-0.715704</td>\n",
       "      <td>0.455696</td>\n",
       "      <td>-0.459285</td>\n",
       "      <td>0.966723</td>\n",
       "      <td>0.765205</td>\n",
       "      <td>-1.314066</td>\n",
       "      <td>-1.594093</td>\n",
       "    </tr>\n",
       "  </tbody>\n",
       "</table>\n",
       "<p>3 rows × 44 columns</p>\n",
       "</div>"
      ],
      "text/plain": [
       "     fueltype_diesel  fueltype_gas  aspiration_std  aspiration_turbo  \\\n",
       "165              0.0           1.0             1.0               0.0   \n",
       "28               0.0           1.0             1.0               0.0   \n",
       "8                0.0           1.0             0.0               1.0   \n",
       "\n",
       "     doornumber_four  doornumber_two  carbody_convertible  carbody_hardtop  \\\n",
       "165              0.0             1.0                  0.0              0.0   \n",
       "28               1.0             0.0                  0.0              0.0   \n",
       "8                1.0             0.0                  0.0              0.0   \n",
       "\n",
       "     carbody_hatchback  carbody_sedan  ...  curbweight  cylindernumber  \\\n",
       "165                0.0            1.0  ...   -0.582771       -0.379851   \n",
       "28                 0.0            0.0  ...   -0.065156       -0.379851   \n",
       "8                  0.0            1.0  ...    0.991161        0.514259   \n",
       "\n",
       "     enginesize  boreratio    stroke  compressionratio  horsepower   peakrpm  \\\n",
       "165   -0.700619  -0.301349 -0.585409         -0.172700    0.216190  3.028543   \n",
       "28    -0.140124   0.075337  0.650904         -0.407178   -0.427124 -0.263585   \n",
       "8      0.070062  -0.715704  0.455696         -0.459285    0.966723  0.765205   \n",
       "\n",
       "      citympg  highwaympg  \n",
       "165  0.167890   -0.212680  \n",
       "28  -0.161433   -0.059189  \n",
       "8   -1.314066   -1.594093  \n",
       "\n",
       "[3 rows x 44 columns]"
      ]
     },
     "execution_count": 12,
     "metadata": {},
     "output_type": "execute_result"
    }
   ],
   "source": [
    "# preprocess DF to training set\n",
    "X_train_df = pd.DataFrame(preprocessor.transform(X_train), \n",
    "                          columns = feature_names, index = X_train.index)\n",
    "X_train_df.sample(3)"
   ]
  },
  {
   "cell_type": "code",
   "execution_count": 13,
   "id": "828a3714",
   "metadata": {},
   "outputs": [
    {
     "data": {
      "text/html": [
       "<div>\n",
       "<style scoped>\n",
       "    .dataframe tbody tr th:only-of-type {\n",
       "        vertical-align: middle;\n",
       "    }\n",
       "\n",
       "    .dataframe tbody tr th {\n",
       "        vertical-align: top;\n",
       "    }\n",
       "\n",
       "    .dataframe thead th {\n",
       "        text-align: right;\n",
       "    }\n",
       "</style>\n",
       "<table border=\"1\" class=\"dataframe\">\n",
       "  <thead>\n",
       "    <tr style=\"text-align: right;\">\n",
       "      <th></th>\n",
       "      <th>fueltype_diesel</th>\n",
       "      <th>fueltype_gas</th>\n",
       "      <th>aspiration_std</th>\n",
       "      <th>aspiration_turbo</th>\n",
       "      <th>doornumber_four</th>\n",
       "      <th>doornumber_two</th>\n",
       "      <th>carbody_convertible</th>\n",
       "      <th>carbody_hardtop</th>\n",
       "      <th>carbody_hatchback</th>\n",
       "      <th>carbody_sedan</th>\n",
       "      <th>...</th>\n",
       "      <th>curbweight</th>\n",
       "      <th>cylindernumber</th>\n",
       "      <th>enginesize</th>\n",
       "      <th>boreratio</th>\n",
       "      <th>stroke</th>\n",
       "      <th>compressionratio</th>\n",
       "      <th>horsepower</th>\n",
       "      <th>peakrpm</th>\n",
       "      <th>citympg</th>\n",
       "      <th>highwaympg</th>\n",
       "    </tr>\n",
       "  </thead>\n",
       "  <tbody>\n",
       "    <tr>\n",
       "      <th>19</th>\n",
       "      <td>0.0</td>\n",
       "      <td>1.0</td>\n",
       "      <td>1.0</td>\n",
       "      <td>0.0</td>\n",
       "      <td>0.0</td>\n",
       "      <td>1.0</td>\n",
       "      <td>0.0</td>\n",
       "      <td>0.0</td>\n",
       "      <td>1.0</td>\n",
       "      <td>0.0</td>\n",
       "      <td>...</td>\n",
       "      <td>-1.332354</td>\n",
       "      <td>-0.379851</td>\n",
       "      <td>-0.887451</td>\n",
       "      <td>-1.092391</td>\n",
       "      <td>-0.487806</td>\n",
       "      <td>-0.120594</td>\n",
       "      <td>-0.909609</td>\n",
       "      <td>0.559447</td>\n",
       "      <td>2.143833</td>\n",
       "      <td>1.936186</td>\n",
       "    </tr>\n",
       "    <tr>\n",
       "      <th>168</th>\n",
       "      <td>0.0</td>\n",
       "      <td>1.0</td>\n",
       "      <td>1.0</td>\n",
       "      <td>0.0</td>\n",
       "      <td>0.0</td>\n",
       "      <td>1.0</td>\n",
       "      <td>0.0</td>\n",
       "      <td>1.0</td>\n",
       "      <td>0.0</td>\n",
       "      <td>0.0</td>\n",
       "      <td>...</td>\n",
       "      <td>-0.063239</td>\n",
       "      <td>-0.379851</td>\n",
       "      <td>0.420371</td>\n",
       "      <td>1.130059</td>\n",
       "      <td>0.781042</td>\n",
       "      <td>-0.198753</td>\n",
       "      <td>0.323409</td>\n",
       "      <td>-0.675101</td>\n",
       "      <td>-0.161433</td>\n",
       "      <td>-0.059189</td>\n",
       "    </tr>\n",
       "    <tr>\n",
       "      <th>156</th>\n",
       "      <td>0.0</td>\n",
       "      <td>1.0</td>\n",
       "      <td>1.0</td>\n",
       "      <td>0.0</td>\n",
       "      <td>1.0</td>\n",
       "      <td>0.0</td>\n",
       "      <td>0.0</td>\n",
       "      <td>0.0</td>\n",
       "      <td>0.0</td>\n",
       "      <td>1.0</td>\n",
       "      <td>...</td>\n",
       "      <td>-0.935516</td>\n",
       "      <td>-0.379851</td>\n",
       "      <td>-0.700619</td>\n",
       "      <td>-0.489692</td>\n",
       "      <td>-0.748082</td>\n",
       "      <td>-0.276913</td>\n",
       "      <td>-0.909609</td>\n",
       "      <td>-0.675101</td>\n",
       "      <td>0.826538</td>\n",
       "      <td>1.015244</td>\n",
       "    </tr>\n",
       "  </tbody>\n",
       "</table>\n",
       "<p>3 rows × 44 columns</p>\n",
       "</div>"
      ],
      "text/plain": [
       "     fueltype_diesel  fueltype_gas  aspiration_std  aspiration_turbo  \\\n",
       "19               0.0           1.0             1.0               0.0   \n",
       "168              0.0           1.0             1.0               0.0   \n",
       "156              0.0           1.0             1.0               0.0   \n",
       "\n",
       "     doornumber_four  doornumber_two  carbody_convertible  carbody_hardtop  \\\n",
       "19               0.0             1.0                  0.0              0.0   \n",
       "168              0.0             1.0                  0.0              1.0   \n",
       "156              1.0             0.0                  0.0              0.0   \n",
       "\n",
       "     carbody_hatchback  carbody_sedan  ...  curbweight  cylindernumber  \\\n",
       "19                 1.0            0.0  ...   -1.332354       -0.379851   \n",
       "168                0.0            0.0  ...   -0.063239       -0.379851   \n",
       "156                0.0            1.0  ...   -0.935516       -0.379851   \n",
       "\n",
       "     enginesize  boreratio    stroke  compressionratio  horsepower   peakrpm  \\\n",
       "19    -0.887451  -1.092391 -0.487806         -0.120594   -0.909609  0.559447   \n",
       "168    0.420371   1.130059  0.781042         -0.198753    0.323409 -0.675101   \n",
       "156   -0.700619  -0.489692 -0.748082         -0.276913   -0.909609 -0.675101   \n",
       "\n",
       "      citympg  highwaympg  \n",
       "19   2.143833    1.936186  \n",
       "168 -0.161433   -0.059189  \n",
       "156  0.826538    1.015244  \n",
       "\n",
       "[3 rows x 44 columns]"
      ]
     },
     "execution_count": 13,
     "metadata": {},
     "output_type": "execute_result"
    }
   ],
   "source": [
    "# preprocess DF to testing set\n",
    "X_test_df = pd.DataFrame(preprocessor.transform(X_test),\n",
    "                         columns = feature_names, index = X_test.index)\n",
    "X_test_df.sample(3)"
   ]
  },
  {
   "cell_type": "markdown",
   "id": "ddf9f077",
   "metadata": {},
   "source": [
    "# Feature Importance"
   ]
  },
  {
   "cell_type": "code",
   "execution_count": 14,
   "id": "9205c3da",
   "metadata": {},
   "outputs": [],
   "source": [
    "def evaluate_regression(model, X_train,y_train, X_test, y_test): \n",
    "    \"\"\"Evaluates a scikit learn regression model using r-squared and RMSE\"\"\"\n",
    "    \n",
    "    ## Training Data\n",
    "    y_pred_train = model.predict(X_train)\n",
    "    r2_train = metrics.r2_score(y_train, y_pred_train)\n",
    "    rmse_train = metrics.mean_squared_error(y_train, y_pred_train, \n",
    "                                            squared=False)\n",
    "    \n",
    "    print(f\"Training Data:\\tR^2= {r2_train:.2f}\\tRMSE= {rmse_train:.2f}\")\n",
    "        \n",
    "    \n",
    "    ## Test Data\n",
    "    y_pred_test = model.predict(X_test)\n",
    "    r2_test = metrics.r2_score(y_test, y_pred_test)\n",
    "    rmse_test = metrics.mean_squared_error(y_test, y_pred_test, \n",
    "                                            squared=False)\n",
    "    \n",
    "    print(f\"Test Data:\\tR^2= {r2_test:.2f}\\tRMSE= {rmse_test:.2f}\")"
   ]
  },
  {
   "cell_type": "code",
   "execution_count": 15,
   "id": "9a63532d",
   "metadata": {},
   "outputs": [],
   "source": [
    "def plot_importance(importances, top_n=None,  figsize=(8,6)):\n",
    "    # sorting with asc=false for correct order of bars\n",
    "    if top_n==None:\n",
    "        ## sort all features and set title\n",
    "        plot_vals = importances.sort_values()\n",
    "        title = \"All Features - Ranked by Importance\"\n",
    "    else:\n",
    "        ## sort features and keep top_n and set title\n",
    "        plot_vals = importances.sort_values().tail(top_n)\n",
    "        title = f\"Top {top_n} Most Important Features\"\n",
    "    ## plotting top N importances\n",
    "    ax = plot_vals.plot(kind='barh', figsize=figsize)\n",
    "    ax.set(xlabel='Importance',\n",
    "            ylabel='Feature Names',\n",
    "            title=title)\n",
    "    ## return ax in case want to continue to update/modify figure\n",
    "    return ax"
   ]
  },
  {
   "cell_type": "code",
   "execution_count": 16,
   "id": "847b3ff1",
   "metadata": {},
   "outputs": [],
   "source": [
    "def plot_importance_color_ax(importances, top_n=None,  figsize=(8,6), \n",
    "                          color_dict=None, ax=None):\n",
    "    \n",
    "    # sorting with asc=false for correct order of bars\n",
    "    if top_n==None:\n",
    "        ## sort all features and set title\n",
    "        plot_vals = importances.sort_values()\n",
    "        title = \"All Features - Ranked by Importance\"\n",
    "    else:\n",
    "        ## sort features and keep top_n and set title\n",
    "        plot_vals = importances.sort_values().tail(top_n)\n",
    "        title = f\"Top {top_n} Most Important Features\"\n",
    "    ## create plot with colors, if provided\n",
    "    if color_dict is not None:\n",
    "        ## Getting color list and saving to plot_kws\n",
    "        colors = plot_vals.index.map(color_dict)\n",
    "        ax = plot_vals.plot(kind='barh', figsize=figsize, color=colors, ax=ax)\n",
    "        \n",
    "    else:\n",
    "        ## create plot without colors, if not provided\n",
    "        ax = plot_vals.plot(kind='barh', figsize=figsize, ax=ax)\n",
    "        \n",
    "    # set titles and axis labels\n",
    "    ax.set(xlabel='Importance', \n",
    "           ylabel='Feature Names', \n",
    "           title=title)\n",
    "    \n",
    "    ## return ax in case want to continue to update/modify figure\n",
    "    return ax"
   ]
  },
  {
   "cell_type": "code",
   "execution_count": 17,
   "id": "5c09d729",
   "metadata": {},
   "outputs": [],
   "source": [
    "def get_color_dict(importances, color_rest='#006ba4' , color_top='green',\n",
    "                    top_n=7):\n",
    "    ## color -coding top 5 bars\n",
    "    highlight_feats = importances.sort_values(ascending=True).tail(top_n).index\n",
    "    colors_dict = {col: color_top if col in highlight_feats else color_rest for col in importances.index}\n",
    "    return colors_dict"
   ]
  },
  {
   "cell_type": "markdown",
   "id": "286a25a8",
   "metadata": {},
   "source": [
    "## Decision Tree Model"
   ]
  },
  {
   "cell_type": "code",
   "execution_count": 18,
   "id": "5aca46d6",
   "metadata": {},
   "outputs": [
    {
     "name": "stdout",
     "output_type": "stream",
     "text": [
      "Training Data:\tR^2= 1.00\tRMSE= 298.01\n",
      "Test Data:\tR^2= 0.90\tRMSE= 2713.85\n"
     ]
    }
   ],
   "source": [
    "dec_tree = DecisionTreeRegressor(random_state = 32)\n",
    "dec_tree.fit(X_train_df, y_train)\n",
    "evaluate_regression(dec_tree, X_train_df, y_train, X_test_df, y_test)"
   ]
  },
  {
   "cell_type": "markdown",
   "id": "194b1073",
   "metadata": {},
   "source": [
    "### Feature Importance"
   ]
  },
  {
   "cell_type": "code",
   "execution_count": 19,
   "id": "2b15cb25",
   "metadata": {},
   "outputs": [
    {
     "name": "stdout",
     "output_type": "stream",
     "text": [
      "fueltype_diesel         0.000002\n",
      "fueltype_gas            0.000000\n",
      "aspiration_std          0.000000\n",
      "aspiration_turbo        0.001023\n",
      "doornumber_four         0.000127\n",
      "doornumber_two          0.000000\n",
      "carbody_convertible     0.000276\n",
      "carbody_hardtop         0.000000\n",
      "carbody_hatchback       0.001074\n",
      "carbody_sedan           0.000010\n",
      "carbody_wagon           0.000032\n",
      "drivewheel_4wd          0.000027\n",
      "drivewheel_fwd          0.000050\n",
      "drivewheel_rwd          0.000127\n",
      "enginelocation_front    0.000000\n",
      "enginelocation_rear     0.000000\n",
      "enginetype_dohc         0.000014\n",
      "enginetype_l            0.000000\n",
      "enginetype_ohc          0.000042\n",
      "enginetype_ohcf         0.000000\n",
      "enginetype_ohcv         0.000000\n",
      "enginetype_rotor        0.000000\n",
      "fuelsystem_1bbl         0.000007\n",
      "fuelsystem_2bbl         0.000082\n",
      "fuelsystem_4bbl         0.000000\n",
      "fuelsystem_idi          0.000000\n",
      "fuelsystem_mpfi         0.000075\n",
      "fuelsystem_spdi         0.000000\n",
      "fuelsystem_spfi         0.000000\n",
      "symboling               0.000388\n",
      "wheelbase               0.007015\n",
      "carlength               0.004382\n",
      "carwidth                0.021316\n",
      "carheight               0.004123\n",
      "curbweight              0.240054\n",
      "cylindernumber          0.000000\n",
      "enginesize              0.671469\n",
      "boreratio               0.001703\n",
      "stroke                  0.007224\n",
      "compressionratio        0.000008\n",
      "horsepower              0.015535\n",
      "peakrpm                 0.004601\n",
      "citympg                 0.001467\n",
      "highwaympg              0.017747\n",
      "Name: Decision Tree Feature Importance, dtype: float64\n"
     ]
    }
   ],
   "source": [
    "feature_importance = pd.Series(dec_tree.feature_importances_, \n",
    "                               index = feature_names, \n",
    "                               name = 'Decision Tree Feature Importance')\n",
    "print(feature_importance)"
   ]
  },
  {
   "cell_type": "code",
   "execution_count": 20,
   "id": "532a6dd7",
   "metadata": {},
   "outputs": [
    {
     "data": {
      "text/plain": [
       "<AxesSubplot: title={'center': 'Top 10 Most Important Features'}, xlabel='Importance', ylabel='Feature Names'>"
      ]
     },
     "execution_count": 20,
     "metadata": {},
     "output_type": "execute_result"
    },
    {
     "data": {
      "image/png": "[encoded data removed]",
      "text/plain": [
       "<Figure size 800x600 with 1 Axes>"
      ]
     },
     "metadata": {},
     "output_type": "display_data"
    }
   ],
   "source": [
    "plot_importance(feature_importance, top_n = 10)"
   ]
  },
  {
   "cell_type": "markdown",
   "id": "070924a7",
   "metadata": {},
   "source": [
    "Questions: \n",
    "\n",
    "1. What were your 5 most important features?\n",
    "    1. Enginesize\n",
    "    2. curbweight\n",
    "    3. carwidth\n",
    "    4. highwaympg\n",
    "    5. horsepower\n",
    "2. What does it mean that they were \"important\"?\n",
    "    - Feature Importance refers to techniques that calculate a score for all the input features for a given model — the scores simply represent the “importance” of each feature. A higher score means that the specific feature will have a larger effect on the model that is being used to predict a certain variable.\n",
    "    \n",
    "### Permutation Importance"
   ]
  },
  {
   "cell_type": "code",
   "execution_count": 21,
   "id": "d65d77c0",
   "metadata": {},
   "outputs": [
    {
     "name": "stdout",
     "output_type": "stream",
     "text": [
      "dict_keys(['importances_mean', 'importances_std', 'importances'])\n"
     ]
    }
   ],
   "source": [
    "# Permutation importance takes a fit model and the test data.\n",
    "r = permutation_importance(dec_tree, X_test_df, y_test,n_repeats = 5)\n",
    "print(r.keys())"
   ]
  },
  {
   "cell_type": "code",
   "execution_count": 22,
   "id": "b5132710",
   "metadata": {},
   "outputs": [
    {
     "data": {
      "text/plain": [
       "enginesize              1.095764\n",
       "curbweight              0.251733\n",
       "carlength               0.021996\n",
       "carwidth                0.021523\n",
       "highwaympg              0.020473\n",
       "horsepower              0.012467\n",
       "stroke                  0.011715\n",
       "carbody_hatchback       0.010178\n",
       "citympg                 0.004384\n",
       "aspiration_turbo        0.001408\n",
       "wheelbase               0.001275\n",
       "boreratio               0.001102\n",
       "fuelsystem_2bbl         0.000729\n",
       "peakrpm                 0.000627\n",
       "fuelsystem_1bbl         0.000213\n",
       "fuelsystem_mpfi         0.000063\n",
       "enginelocation_rear     0.000000\n",
       "aspiration_std          0.000000\n",
       "doornumber_two          0.000000\n",
       "carbody_convertible     0.000000\n",
       "carbody_hardtop         0.000000\n",
       "cylindernumber          0.000000\n",
       "drivewheel_4wd          0.000000\n",
       "drivewheel_rwd          0.000000\n",
       "fuelsystem_spfi         0.000000\n",
       "fuelsystem_spdi         0.000000\n",
       "fueltype_diesel         0.000000\n",
       "fuelsystem_idi          0.000000\n",
       "fuelsystem_4bbl         0.000000\n",
       "enginetype_l            0.000000\n",
       "enginetype_ohcf         0.000000\n",
       "enginetype_ohcv         0.000000\n",
       "enginetype_rotor        0.000000\n",
       "fueltype_gas            0.000000\n",
       "enginelocation_front    0.000000\n",
       "carbody_sedan          -0.000001\n",
       "compressionratio       -0.000042\n",
       "enginetype_ohc         -0.000077\n",
       "enginetype_dohc        -0.000084\n",
       "carbody_wagon          -0.000132\n",
       "drivewheel_fwd         -0.000139\n",
       "symboling              -0.000352\n",
       "doornumber_four        -0.001192\n",
       "carheight              -0.011977\n",
       "Name: Permutation Importance, dtype: float64"
      ]
     },
     "execution_count": 22,
     "metadata": {},
     "output_type": "execute_result"
    }
   ],
   "source": [
    "## can make the mean importances into a series\n",
    "permutation_importances = pd.Series(r['importances_mean'],\n",
    "                                    index = X_test_df.columns,\n",
    "                                    name = 'Permutation Importance')\n",
    "permutation_importances = permutation_importances.sort_values(ascending = False)\n",
    "permutation_importances"
   ]
  },
  {
   "cell_type": "code",
   "execution_count": 23,
   "id": "ca942337",
   "metadata": {},
   "outputs": [
    {
     "data": {
      "text/plain": [
       "<AxesSubplot: title={'center': 'Top 10 Most Important Features'}, xlabel='Importance', ylabel='Feature Names'>"
      ]
     },
     "execution_count": 23,
     "metadata": {},
     "output_type": "execute_result"
    },
    {
     "data": {
      "image/png": "[encoded data removed]",
      "text/plain": [
       "<Figure size 800x600 with 1 Axes>"
      ]
     },
     "metadata": {},
     "output_type": "display_data"
    }
   ],
   "source": [
    "plot_importance(permutation_importances, top_n = 10)"
   ]
  },
  {
   "cell_type": "markdown",
   "id": "37e29b78",
   "metadata": {},
   "source": [
    "Question: \n",
    "1. What were your 5 most important features?\n",
    "    1. enginesize\n",
    "    2. curbweight\n",
    "    4. carwitht\n",
    "    5. highwaympg\n",
    "    6. stroke\n",
    "2. Are they the same features that your model has as the top 5 important?\n",
    "    - No, stroke did NOT apprear on the other feature."
   ]
  },
  {
   "cell_type": "markdown",
   "id": "1167ff44",
   "metadata": {},
   "source": [
    "## Random Forest Model"
   ]
  },
  {
   "cell_type": "code",
   "execution_count": 24,
   "id": "018a21c7",
   "metadata": {},
   "outputs": [
    {
     "name": "stdout",
     "output_type": "stream",
     "text": [
      "Training Data:\tR^2= 0.99\tRMSE= 865.87\n",
      "Test Data:\tR^2= 0.93\tRMSE= 2279.60\n"
     ]
    }
   ],
   "source": [
    "ran_for = RandomForestRegressor(random_state = 32)\n",
    "ran_for.fit(X_train_df, y_train)\n",
    "evaluate_regression(ran_for, X_train_df, y_train, X_test_df, y_test)"
   ]
  },
  {
   "cell_type": "markdown",
   "id": "2ec17a4f",
   "metadata": {},
   "source": [
    "### Features"
   ]
  },
  {
   "cell_type": "code",
   "execution_count": 25,
   "id": "148539b6",
   "metadata": {},
   "outputs": [],
   "source": [
    "# Feature Importance\n",
    "rf_feature_importance = pd.Series(ran_for.feature_importances_, \n",
    "                                  index = feature_names)"
   ]
  },
  {
   "cell_type": "code",
   "execution_count": 26,
   "id": "ca752c1a",
   "metadata": {},
   "outputs": [],
   "source": [
    "# Permutation Importance#\n",
    "rf_r = permutation_importance(ran_for, X_test_df, y_test,n_repeats = 5)\n",
    "rf_permutation_importances = pd.Series(rf_r['importances_mean'],\n",
    "                                       index = X_test_df.columns)"
   ]
  },
  {
   "cell_type": "code",
   "execution_count": 27,
   "id": "e22fe5ba",
   "metadata": {},
   "outputs": [
    {
     "data": {
      "image/png": "[encoded data removed]",
      "text/plain": [
       "<Figure size 800x600 with 2 Axes>"
      ]
     },
     "metadata": {},
     "output_type": "display_data"
    }
   ],
   "source": [
    "# [!] COLOR_DICT is removed for now, still could not figure that one out\n",
    "\n",
    "fig, axes = plt.subplots(ncols=2, figsize=(20,8))\n",
    "n = 7 # setting the # of features to use for both subplots\n",
    "plot_importance_color_ax(rf_feature_importance, top_n = n, ax = axes[0])\n",
    "plot_importance_color_ax(rf_permutation_importances, top_n = n, ax = axes[1])\n",
    "axes[0].set(title='R.F. Importances')\n",
    "axes[1].set(title='Permutation Importances')\n",
    "fig.tight_layout()"
   ]
  },
  {
   "cell_type": "markdown",
   "id": "1f7337e0",
   "metadata": {},
   "source": [
    "## LGBMRegressor"
   ]
  },
  {
   "cell_type": "code",
   "execution_count": 28,
   "id": "a0273b73",
   "metadata": {},
   "outputs": [
    {
     "name": "stdout",
     "output_type": "stream",
     "text": [
      "Training Data:\tR^2= 0.96\tRMSE= 1515.90\n",
      "Test Data:\tR^2= 0.88\tRMSE= 2986.16\n"
     ]
    }
   ],
   "source": [
    "lgbm = LGBMRegressor(random_state = 32)\n",
    "lgbm.fit(X_train_df, y_train)\n",
    "evaluate_regression(lgbm, X_train_df, y_train, X_test_df, y_test)"
   ]
  },
  {
   "cell_type": "markdown",
   "id": "9fae7390",
   "metadata": {},
   "source": [
    "### Features"
   ]
  },
  {
   "cell_type": "code",
   "execution_count": 29,
   "id": "93fc05ea",
   "metadata": {},
   "outputs": [],
   "source": [
    "# Feature Importance\n",
    "lgbm_feature_importance = pd.Series(lgbm.feature_importances_, \n",
    "                                    index = feature_names)"
   ]
  },
  {
   "cell_type": "code",
   "execution_count": 30,
   "id": "321a7545",
   "metadata": {},
   "outputs": [],
   "source": [
    "# Permutation Importance#\n",
    "lgbm_r = permutation_importance(lgbm, X_test_df, y_test,n_repeats = 5)\n",
    "lgbm_permutation_importances = pd.Series(lgbm_r['importances_mean'],\n",
    "                                         index = X_test_df.columns)"
   ]
  },
  {
   "cell_type": "code",
   "execution_count": 31,
   "id": "29b40dc9",
   "metadata": {},
   "outputs": [
    {
     "data": {
      "image/png": "[encoded data removed]",
      "text/plain": [
       "<Figure size 800x600 with 2 Axes>"
      ]
     },
     "metadata": {},
     "output_type": "display_data"
    }
   ],
   "source": [
    "# [!] COLOR_DICT is removed for now, still could not figure that one out\n",
    "\n",
    "fig, axes = plt.subplots(ncols=2, figsize=(20,8))\n",
    "n = 7 # setting the # of features to use for both subplots\n",
    "plot_importance_color_ax(lgbm_feature_importance, top_n = n, ax = axes[0])\n",
    "plot_importance_color_ax(lgbm_permutation_importances, top_n = n, ax = axes[1])\n",
    "axes[0].set(title='LGBM Importances')\n",
    "axes[1].set(title='Permutation Importances')\n",
    "fig.tight_layout()"
   ]
  }
 ],
 "metadata": {
  "kernelspec": {
   "display_name": "Python (dojo-env)",
   "language": "python",
   "name": "dojo-env"
  },
  "language_info": {
   "codemirror_mode": {
    "name": "ipython",
    "version": 3
   },
   "file_extension": ".py",
   "mimetype": "text/x-python",
   "name": "python",
   "nbconvert_exporter": "python",
   "pygments_lexer": "ipython3",
   "version": "3.9.15"
  },
  "toc": {
   "base_numbering": 1,
   "nav_menu": {},
   "number_sections": false,
   "sideBar": true,
   "skip_h1_title": false,
   "title_cell": "Table of Contents",
   "title_sidebar": "Contents",
   "toc_cell": false,
   "toc_position": {
    "height": "calc(100% - 180px)",
    "left": "10px",
    "top": "150px",
    "width": "512px"
   },
   "toc_section_display": true,
   "toc_window_display": true
  }
 },
 "nbformat": 4,
 "nbformat_minor": 5
}
